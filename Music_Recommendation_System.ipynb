{
 "cells": [
  {
   "cell_type": "code",
   "execution_count": 1,
   "id": "53433325-d350-4572-8d15-81cb03907a72",
   "metadata": {},
   "outputs": [],
   "source": [
    "import pandas as pd"
   ]
  },
  {
   "cell_type": "code",
   "execution_count": 2,
   "id": "65d9b2a8-39f2-4076-9f85-e34f3345daf5",
   "metadata": {},
   "outputs": [
    {
     "data": {
      "text/html": [
       "<div>\n",
       "<style scoped>\n",
       "    .dataframe tbody tr th:only-of-type {\n",
       "        vertical-align: middle;\n",
       "    }\n",
       "\n",
       "    .dataframe tbody tr th {\n",
       "        vertical-align: top;\n",
       "    }\n",
       "\n",
       "    .dataframe thead th {\n",
       "        text-align: right;\n",
       "    }\n",
       "</style>\n",
       "<table border=\"1\" class=\"dataframe\">\n",
       "  <thead>\n",
       "    <tr style=\"text-align: right;\">\n",
       "      <th></th>\n",
       "      <th>artist</th>\n",
       "      <th>song</th>\n",
       "      <th>link</th>\n",
       "      <th>text</th>\n",
       "    </tr>\n",
       "  </thead>\n",
       "  <tbody>\n",
       "    <tr>\n",
       "      <th>0</th>\n",
       "      <td>ABBA</td>\n",
       "      <td>Ahe's My Kind Of Girl</td>\n",
       "      <td>/a/abba/ahes+my+kind+of+girl_20598417.html</td>\n",
       "      <td>Look at her face, it's a wonderful face  \\r\\nA...</td>\n",
       "    </tr>\n",
       "    <tr>\n",
       "      <th>1</th>\n",
       "      <td>ABBA</td>\n",
       "      <td>Andante, Andante</td>\n",
       "      <td>/a/abba/andante+andante_20002708.html</td>\n",
       "      <td>Take it easy with me, please  \\r\\nTouch me gen...</td>\n",
       "    </tr>\n",
       "    <tr>\n",
       "      <th>2</th>\n",
       "      <td>ABBA</td>\n",
       "      <td>As Good As New</td>\n",
       "      <td>/a/abba/as+good+as+new_20003033.html</td>\n",
       "      <td>I'll never know why I had to go  \\r\\nWhy I had...</td>\n",
       "    </tr>\n",
       "    <tr>\n",
       "      <th>3</th>\n",
       "      <td>ABBA</td>\n",
       "      <td>Bang</td>\n",
       "      <td>/a/abba/bang_20598415.html</td>\n",
       "      <td>Making somebody happy is a question of give an...</td>\n",
       "    </tr>\n",
       "    <tr>\n",
       "      <th>4</th>\n",
       "      <td>ABBA</td>\n",
       "      <td>Bang-A-Boomerang</td>\n",
       "      <td>/a/abba/bang+a+boomerang_20002668.html</td>\n",
       "      <td>Making somebody happy is a question of give an...</td>\n",
       "    </tr>\n",
       "    <tr>\n",
       "      <th>...</th>\n",
       "      <td>...</td>\n",
       "      <td>...</td>\n",
       "      <td>...</td>\n",
       "      <td>...</td>\n",
       "    </tr>\n",
       "    <tr>\n",
       "      <th>57645</th>\n",
       "      <td>Ziggy Marley</td>\n",
       "      <td>Good Old Days</td>\n",
       "      <td>/z/ziggy+marley/good+old+days_10198588.html</td>\n",
       "      <td>Irie days come on play  \\r\\nLet the angels fly...</td>\n",
       "    </tr>\n",
       "    <tr>\n",
       "      <th>57646</th>\n",
       "      <td>Ziggy Marley</td>\n",
       "      <td>Hand To Mouth</td>\n",
       "      <td>/z/ziggy+marley/hand+to+mouth_20531167.html</td>\n",
       "      <td>Power to the workers  \\r\\nMore power  \\r\\nPowe...</td>\n",
       "    </tr>\n",
       "    <tr>\n",
       "      <th>57647</th>\n",
       "      <td>Zwan</td>\n",
       "      <td>Come With Me</td>\n",
       "      <td>/z/zwan/come+with+me_20148981.html</td>\n",
       "      <td>all you need  \\r\\nis something i'll believe  \\...</td>\n",
       "    </tr>\n",
       "    <tr>\n",
       "      <th>57648</th>\n",
       "      <td>Zwan</td>\n",
       "      <td>Desire</td>\n",
       "      <td>/z/zwan/desire_20148986.html</td>\n",
       "      <td>northern star  \\r\\nam i frightened  \\r\\nwhere ...</td>\n",
       "    </tr>\n",
       "    <tr>\n",
       "      <th>57649</th>\n",
       "      <td>Zwan</td>\n",
       "      <td>Heartsong</td>\n",
       "      <td>/z/zwan/heartsong_20148991.html</td>\n",
       "      <td>come in  \\r\\nmake yourself at home  \\r\\ni'm a ...</td>\n",
       "    </tr>\n",
       "  </tbody>\n",
       "</table>\n",
       "<p>57650 rows × 4 columns</p>\n",
       "</div>"
      ],
      "text/plain": [
       "             artist                   song  \\\n",
       "0              ABBA  Ahe's My Kind Of Girl   \n",
       "1              ABBA       Andante, Andante   \n",
       "2              ABBA         As Good As New   \n",
       "3              ABBA                   Bang   \n",
       "4              ABBA       Bang-A-Boomerang   \n",
       "...             ...                    ...   \n",
       "57645  Ziggy Marley          Good Old Days   \n",
       "57646  Ziggy Marley          Hand To Mouth   \n",
       "57647          Zwan           Come With Me   \n",
       "57648          Zwan                 Desire   \n",
       "57649          Zwan              Heartsong   \n",
       "\n",
       "                                              link  \\\n",
       "0       /a/abba/ahes+my+kind+of+girl_20598417.html   \n",
       "1            /a/abba/andante+andante_20002708.html   \n",
       "2             /a/abba/as+good+as+new_20003033.html   \n",
       "3                       /a/abba/bang_20598415.html   \n",
       "4           /a/abba/bang+a+boomerang_20002668.html   \n",
       "...                                            ...   \n",
       "57645  /z/ziggy+marley/good+old+days_10198588.html   \n",
       "57646  /z/ziggy+marley/hand+to+mouth_20531167.html   \n",
       "57647           /z/zwan/come+with+me_20148981.html   \n",
       "57648                 /z/zwan/desire_20148986.html   \n",
       "57649              /z/zwan/heartsong_20148991.html   \n",
       "\n",
       "                                                    text  \n",
       "0      Look at her face, it's a wonderful face  \\r\\nA...  \n",
       "1      Take it easy with me, please  \\r\\nTouch me gen...  \n",
       "2      I'll never know why I had to go  \\r\\nWhy I had...  \n",
       "3      Making somebody happy is a question of give an...  \n",
       "4      Making somebody happy is a question of give an...  \n",
       "...                                                  ...  \n",
       "57645  Irie days come on play  \\r\\nLet the angels fly...  \n",
       "57646  Power to the workers  \\r\\nMore power  \\r\\nPowe...  \n",
       "57647  all you need  \\r\\nis something i'll believe  \\...  \n",
       "57648  northern star  \\r\\nam i frightened  \\r\\nwhere ...  \n",
       "57649  come in  \\r\\nmake yourself at home  \\r\\ni'm a ...  \n",
       "\n",
       "[57650 rows x 4 columns]"
      ]
     },
     "execution_count": 2,
     "metadata": {},
     "output_type": "execute_result"
    }
   ],
   "source": [
    "data = pd.read_csv('spotify_millsongdata.csv')\n",
    "data"
   ]
  },
  {
   "cell_type": "code",
   "execution_count": 3,
   "id": "5c90366f-4c70-4fe0-9be2-9d20dc0109fb",
   "metadata": {},
   "outputs": [],
   "source": [
    "#now dropping link column and also as the rows = 57000 my laptop has not enough GPU for it so i am going to take a sample\n",
    "data = data.drop('link' , axis = 1).reset_index(drop = True)\n",
    "data = data.sample(10000).reset_index(drop = True)"
   ]
  },
  {
   "cell_type": "code",
   "execution_count": 4,
   "id": "40a9ea00-1d6c-43e5-839e-6e5e5f2dab91",
   "metadata": {},
   "outputs": [
    {
     "data": {
      "text/html": [
       "<div>\n",
       "<style scoped>\n",
       "    .dataframe tbody tr th:only-of-type {\n",
       "        vertical-align: middle;\n",
       "    }\n",
       "\n",
       "    .dataframe tbody tr th {\n",
       "        vertical-align: top;\n",
       "    }\n",
       "\n",
       "    .dataframe thead th {\n",
       "        text-align: right;\n",
       "    }\n",
       "</style>\n",
       "<table border=\"1\" class=\"dataframe\">\n",
       "  <thead>\n",
       "    <tr style=\"text-align: right;\">\n",
       "      <th></th>\n",
       "      <th>artist</th>\n",
       "      <th>song</th>\n",
       "      <th>text</th>\n",
       "    </tr>\n",
       "  </thead>\n",
       "  <tbody>\n",
       "    <tr>\n",
       "      <th>0</th>\n",
       "      <td>Notorious B.I.G.</td>\n",
       "      <td>Unbelievable</td>\n",
       "      <td>Live from Bedford-Stuyvesant, the livest one  ...</td>\n",
       "    </tr>\n",
       "    <tr>\n",
       "      <th>1</th>\n",
       "      <td>Pogues</td>\n",
       "      <td>Billy's Bones</td>\n",
       "      <td>Billy ran around with the rare old crew  \\r\\nA...</td>\n",
       "    </tr>\n",
       "    <tr>\n",
       "      <th>2</th>\n",
       "      <td>Kris Kristofferson</td>\n",
       "      <td>Jesus Was A Capricorn</td>\n",
       "      <td>Jesus was a Capricorn  \\r\\nHe ate organic food...</td>\n",
       "    </tr>\n",
       "    <tr>\n",
       "      <th>3</th>\n",
       "      <td>Sting</td>\n",
       "      <td>Fields Of Gold</td>\n",
       "      <td>You'll remember me when the west wind moves up...</td>\n",
       "    </tr>\n",
       "    <tr>\n",
       "      <th>4</th>\n",
       "      <td>Quasi</td>\n",
       "      <td>Two By Two</td>\n",
       "      <td>You've left at last, I knew you could  \\r\\nLea...</td>\n",
       "    </tr>\n",
       "    <tr>\n",
       "      <th>...</th>\n",
       "      <td>...</td>\n",
       "      <td>...</td>\n",
       "      <td>...</td>\n",
       "    </tr>\n",
       "    <tr>\n",
       "      <th>9995</th>\n",
       "      <td>Jimmy Buffett</td>\n",
       "      <td>Big Rig</td>\n",
       "      <td>If I was a road dog, baby  \\r\\nAll of my songs...</td>\n",
       "    </tr>\n",
       "    <tr>\n",
       "      <th>9996</th>\n",
       "      <td>Grand Funk Railroad</td>\n",
       "      <td>1976</td>\n",
       "      <td>Hey ...  \\r\\n  \\r\\nOhhhh ...  \\r\\n  \\r\\nOh, ha...</td>\n",
       "    </tr>\n",
       "    <tr>\n",
       "      <th>9997</th>\n",
       "      <td>Whitesnake</td>\n",
       "      <td>Love Ain't No Stranger</td>\n",
       "      <td>Who knows where the cold wind blows,  \\r\\nI as...</td>\n",
       "    </tr>\n",
       "    <tr>\n",
       "      <th>9998</th>\n",
       "      <td>Hanson</td>\n",
       "      <td>Dancin' In The Wind</td>\n",
       "      <td>Won't deny everything can't last  \\r\\nBut it's...</td>\n",
       "    </tr>\n",
       "    <tr>\n",
       "      <th>9999</th>\n",
       "      <td>Dewa 19</td>\n",
       "      <td>Kasidah Cinta</td>\n",
       "      <td>[Verse 1]  \\r\\nKu jatuh cinta kepadamu  \\r\\nSa...</td>\n",
       "    </tr>\n",
       "  </tbody>\n",
       "</table>\n",
       "<p>10000 rows × 3 columns</p>\n",
       "</div>"
      ],
      "text/plain": [
       "                   artist                    song  \\\n",
       "0        Notorious B.I.G.            Unbelievable   \n",
       "1                  Pogues           Billy's Bones   \n",
       "2      Kris Kristofferson   Jesus Was A Capricorn   \n",
       "3                   Sting          Fields Of Gold   \n",
       "4                   Quasi              Two By Two   \n",
       "...                   ...                     ...   \n",
       "9995        Jimmy Buffett                 Big Rig   \n",
       "9996  Grand Funk Railroad                    1976   \n",
       "9997           Whitesnake  Love Ain't No Stranger   \n",
       "9998               Hanson     Dancin' In The Wind   \n",
       "9999              Dewa 19           Kasidah Cinta   \n",
       "\n",
       "                                                   text  \n",
       "0     Live from Bedford-Stuyvesant, the livest one  ...  \n",
       "1     Billy ran around with the rare old crew  \\r\\nA...  \n",
       "2     Jesus was a Capricorn  \\r\\nHe ate organic food...  \n",
       "3     You'll remember me when the west wind moves up...  \n",
       "4     You've left at last, I knew you could  \\r\\nLea...  \n",
       "...                                                 ...  \n",
       "9995  If I was a road dog, baby  \\r\\nAll of my songs...  \n",
       "9996  Hey ...  \\r\\n  \\r\\nOhhhh ...  \\r\\n  \\r\\nOh, ha...  \n",
       "9997  Who knows where the cold wind blows,  \\r\\nI as...  \n",
       "9998  Won't deny everything can't last  \\r\\nBut it's...  \n",
       "9999  [Verse 1]  \\r\\nKu jatuh cinta kepadamu  \\r\\nSa...  \n",
       "\n",
       "[10000 rows x 3 columns]"
      ]
     },
     "execution_count": 4,
     "metadata": {},
     "output_type": "execute_result"
    }
   ],
   "source": [
    "data"
   ]
  },
  {
   "cell_type": "code",
   "execution_count": 6,
   "id": "33b74244-1a3f-437c-8f9b-1cbea21ba632",
   "metadata": {},
   "outputs": [
    {
     "data": {
      "text/plain": [
       "\"Live from Bedford-Stuyvesant, the livest one  \\r\\nRepresenting BK to the fullest  \\r\\nGats I pull it, bastards ducking when Big be bucking  \\r\\nChickenheads be clucking in my bathroom fucking  \\r\\nIt ain't nothing, they know Big be handling  \\r\\nWith the mac in the Ac' door paneling  \\r\\nDamagin MC's, oxygen they can't breathe  \\r\\nMad tricks up the sleeve, wear boxers so my dick can breathe  \\r\\nBreeze through in the Q-45 by my side, lyrical high  \\r\\nAnd those that rushes my clutches get put on crutches  \\r\\nGet smoked like dutches from the master  \\r\\nHate to blast you, but I have to, you see I smoke a lot  \\r\\nYour life is played out like Kwame, and them fucking polka dots  \\r\\nWho rock the spot? Biggie  \\r\\nYou know how the weed go, unbelievable  \\r\\n  \\r\\nB-I-G, G-I-E, AKA, B.I.G  \\r\\nGet it? Biggie  \\r\\nAlso known as the bon appetit  \\r\\nRappers can't sleep need sleeping Big keep creeping  \\r\\nBullets heat-seeking, casualties need treating  \\r\\nDumb rappers need teaching  \\r\\nLesson A - don't fuck with B-I, that's that  \\r\\nOh I, thought he was wack. Oh come come now  \\r\\nWhy y'all so dumb now - hunt me or be hunted  \\r\\nI got three hundred and fifty-seven ways  \\r\\nTo simmer saute, I'm the winner all day  \\r\\nLights get dimmer down Biggie's hallway  \\r\\nMy forte causes Caucasians to say  \\r\\nHe sounds demented, car weed scented  \\r\\nIf I said it, I meant it  \\r\\nBite my tongue for no-one  \\r\\nCall me evil, or unbelievable  \\r\\n  \\r\\nBuck shots out the sun roof of Lexus Coupes  \\r\\nLeave no witnesses, what you think this is?  \\r\\nAin't no amateurs here, I damage and tear  \\r\\nMC's fear me, they too near not to hear me  \\r\\nClearly, I'm the triple beam dream  \\r\\nOne thousand grams of uncut to the gut  \\r\\nIt seems fucked up, the way I touched up the grill  \\r\\nTrying to play gorilla, when you ain't no killer  \\r\\nThe gat's by your liver, your upper lip quiver  \\r\\nGet ready to die, tell God I said hi  \\r\\nAnd throw down some ice, for the nicest MC  \\r\\nNiggas know the steelo, unbelievable\\r\\n\\r\\n\""
      ]
     },
     "execution_count": 6,
     "metadata": {},
     "output_type": "execute_result"
    }
   ],
   "source": [
    "data['text'][0]"
   ]
  },
  {
   "cell_type": "code",
   "execution_count": 7,
   "id": "91f770bd-a10c-4bf8-9077-3c9dba8d32ae",
   "metadata": {},
   "outputs": [],
   "source": [
    "#as our text is containing \\n and also some capital letters i.e text preprocessing\n",
    "data['text'] = data['text'].str.lower()\n",
    "data['text'] = data['text'].str.replace(r'\\n',' ',regex = True)\n",
    "data['text'] = data['text'].str.replace(r'\\W',' ',regex = True)\n",
    "data['text'] = data['text'].str.replace(r'\\s+',' ',regex = True)"
   ]
  },
  {
   "cell_type": "code",
   "execution_count": 8,
   "id": "53fa7b32-85e0-45b1-b5ef-fd69b5f1dbcf",
   "metadata": {},
   "outputs": [
    {
     "data": {
      "text/plain": [
       "'live from bedford stuyvesant the livest one representing bk to the fullest gats i pull it bastards ducking when big be bucking chickenheads be clucking in my bathroom fucking it ain t nothing they know big be handling with the mac in the ac door paneling damagin mc s oxygen they can t breathe mad tricks up the sleeve wear boxers so my dick can breathe breeze through in the q 45 by my side lyrical high and those that rushes my clutches get put on crutches get smoked like dutches from the master hate to blast you but i have to you see i smoke a lot your life is played out like kwame and them fucking polka dots who rock the spot biggie you know how the weed go unbelievable b i g g i e aka b i g get it biggie also known as the bon appetit rappers can t sleep need sleeping big keep creeping bullets heat seeking casualties need treating dumb rappers need teaching lesson a don t fuck with b i that s that oh i thought he was wack oh come come now why y all so dumb now hunt me or be hunted i got three hundred and fifty seven ways to simmer saute i m the winner all day lights get dimmer down biggie s hallway my forte causes caucasians to say he sounds demented car weed scented if i said it i meant it bite my tongue for no one call me evil or unbelievable buck shots out the sun roof of lexus coupes leave no witnesses what you think this is ain t no amateurs here i damage and tear mc s fear me they too near not to hear me clearly i m the triple beam dream one thousand grams of uncut to the gut it seems fucked up the way i touched up the grill trying to play gorilla when you ain t no killer the gat s by your liver your upper lip quiver get ready to die tell god i said hi and throw down some ice for the nicest mc niggas know the steelo unbelievable '"
      ]
     },
     "execution_count": 8,
     "metadata": {},
     "output_type": "execute_result"
    }
   ],
   "source": [
    "data['text'][0]"
   ]
  },
  {
   "cell_type": "code",
   "execution_count": 10,
   "id": "07f10ad5-5fa8-4134-9c9f-394953d0fd91",
   "metadata": {},
   "outputs": [],
   "source": [
    "# tokenization\n",
    "import nltk\n",
    "from nltk.stem.porter import PorterStemmer"
   ]
  },
  {
   "cell_type": "code",
   "execution_count": 11,
   "id": "80127ed4-1b41-4631-bc83-8e32f55c2b63",
   "metadata": {},
   "outputs": [],
   "source": [
    "stemm = PorterStemmer()"
   ]
  },
  {
   "cell_type": "code",
   "execution_count": 14,
   "id": "70508f1f-8070-426e-8061-1a8776b51f2b",
   "metadata": {},
   "outputs": [],
   "source": [
    "def token(text):\n",
    "    token = nltk.word_tokenize(text)\n",
    "    list = [stemm.stem(w) for w in token]\n",
    "    return \" \".join(list)"
   ]
  },
  {
   "cell_type": "code",
   "execution_count": 15,
   "id": "8e3db42f-c8c1-4c34-805f-92fcb49329b0",
   "metadata": {},
   "outputs": [
    {
     "data": {
      "text/plain": [
       "'the quick brown fox jump over the lazi dog'"
      ]
     },
     "execution_count": 15,
     "metadata": {},
     "output_type": "execute_result"
    }
   ],
   "source": [
    "#example \n",
    "txt = \"The quick brown fox jumps over the lazy dog\"\n",
    "token(txt)"
   ]
  },
  {
   "cell_type": "markdown",
   "id": "b9096be8-ba27-4bb8-b28f-28e87552347b",
   "metadata": {},
   "source": [
    "Appling token function to all text"
   ]
  },
  {
   "cell_type": "code",
   "execution_count": 16,
   "id": "41b81dcd-cdd1-4853-826a-ed55f1023e75",
   "metadata": {},
   "outputs": [],
   "source": [
    "data['text'] = data['text'].apply(token)"
   ]
  },
  {
   "cell_type": "code",
   "execution_count": 18,
   "id": "e459dcdd-c26a-47ad-b43c-2aeead4e2ee2",
   "metadata": {},
   "outputs": [],
   "source": [
    "#vectorization\n",
    "from sklearn.feature_extraction.text import TfidfVectorizer"
   ]
  },
  {
   "cell_type": "code",
   "execution_count": 19,
   "id": "cc2afc8e-644d-4daa-b5ea-3ebbfc0daf0d",
   "metadata": {},
   "outputs": [],
   "source": [
    "tfidf = TfidfVectorizer(analyzer = 'word',stop_words = 'english')"
   ]
  },
  {
   "cell_type": "code",
   "execution_count": 20,
   "id": "1ed04e98-7aca-4796-ba12-9abb052d5afb",
   "metadata": {},
   "outputs": [],
   "source": [
    "# cosine similarity for findind theta distance between songs\n",
    "from sklearn.metrics.pairwise import cosine_similarity"
   ]
  },
  {
   "cell_type": "code",
   "execution_count": 21,
   "id": "f9c20420-4dea-42d2-9a6e-39b82cf7d286",
   "metadata": {},
   "outputs": [],
   "source": [
    "#sparse matrix\n",
    "matrix = tfidf.fit_transform(data['text'])\n",
    "similar = cosine_similarity(matrix)"
   ]
  },
  {
   "cell_type": "code",
   "execution_count": 22,
   "id": "b1d70412-260c-44d0-b3eb-44fa7c6b0148",
   "metadata": {},
   "outputs": [],
   "source": [
    "# now creating function to recommend songs\n",
    "def recommender(song_name):\n",
    "    if song_name not in data['song'].values:\n",
    "        return \"Song not found\"\n",
    "    ind = data[data['song'] == song_name].index[0]\n",
    "    dist = sorted(list(enumerate(similar[ind])), reverse = True , key = lambda x : x[1])\n",
    "    song = []\n",
    "    for s_id in dist[1:6]:\n",
    "        song.append(data.iloc[s_id[0]].song)\n",
    "    return song\n",
    "    \n",
    "    "
   ]
  },
  {
   "cell_type": "code",
   "execution_count": 25,
   "id": "16745249-1d7c-4fbc-8ee4-33c6aa39a5d3",
   "metadata": {},
   "outputs": [
    {
     "data": {
      "text/plain": [
       "['In The Air Tonight',\n",
       " 'Here I Am Lord',\n",
       " 'You Move Me',\n",
       " 'Lord, In Your Love',\n",
       " 'Better Off Now']"
      ]
     },
     "execution_count": 25,
     "metadata": {},
     "output_type": "execute_result"
    }
   ],
   "source": [
    "# checking recommendation function\n",
    "recommender('1976')"
   ]
  },
  {
   "cell_type": "code",
   "execution_count": 26,
   "id": "2b803591-74a3-43ae-8eab-49c4c5ea9e60",
   "metadata": {},
   "outputs": [],
   "source": [
    "# now creating a pickle file to use it for creating the application\n",
    "import pickle as pk"
   ]
  },
  {
   "cell_type": "code",
   "execution_count": 27,
   "id": "908b4953-eb6a-479b-a814-afec2032da28",
   "metadata": {},
   "outputs": [],
   "source": [
    "pk.dump(data,open('data','wb'))\n",
    "pk.dump(similar,open(\"similarity\", 'wb'))"
   ]
  },
  {
   "cell_type": "code",
   "execution_count": null,
   "id": "436dfde8-cab9-4e42-b0ef-23502dbe1436",
   "metadata": {},
   "outputs": [],
   "source": []
  }
 ],
 "metadata": {
  "kernelspec": {
   "display_name": "Python 3 (ipykernel)",
   "language": "python",
   "name": "python3"
  },
  "language_info": {
   "codemirror_mode": {
    "name": "ipython",
    "version": 3
   },
   "file_extension": ".py",
   "mimetype": "text/x-python",
   "name": "python",
   "nbconvert_exporter": "python",
   "pygments_lexer": "ipython3",
   "version": "3.11.7"
  }
 },
 "nbformat": 4,
 "nbformat_minor": 5
}
